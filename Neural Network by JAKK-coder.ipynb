{
 "cells": [
  {
   "cell_type": "code",
   "execution_count": 1,
   "metadata": {},
   "outputs": [],
   "source": [
    "import numpy as np\n",
    "import matplotlib.pyplot as plt\n",
    "import pandas as pd"
   ]
  },
  {
   "cell_type": "markdown",
   "metadata": {},
   "source": [
    "# Generating Random Data Set For model"
   ]
  },
  {
   "cell_type": "code",
   "execution_count": 2,
   "metadata": {},
   "outputs": [],
   "source": [
    "X = np.vstack([(np.random.rand(10, 2)*5),(np.random.rand(10, 2)*10)])\n",
    "Y = np.hstack([[0]*10 , [1]*10])\n",
    "dataset = pd.DataFrame(X,columns={\"X1\",\"X2\"})\n",
    "dataset[\"Y\"] =Y"
   ]
  },
  {
   "cell_type": "markdown",
   "metadata": {},
   "source": [
    "# Random DataSet Generated"
   ]
  },
  {
   "cell_type": "code",
   "execution_count": 3,
   "metadata": {},
   "outputs": [
    {
     "data": {
      "text/html": [
       "<div>\n",
       "<style scoped>\n",
       "    .dataframe tbody tr th:only-of-type {\n",
       "        vertical-align: middle;\n",
       "    }\n",
       "\n",
       "    .dataframe tbody tr th {\n",
       "        vertical-align: top;\n",
       "    }\n",
       "\n",
       "    .dataframe thead th {\n",
       "        text-align: right;\n",
       "    }\n",
       "</style>\n",
       "<table border=\"1\" class=\"dataframe\">\n",
       "  <thead>\n",
       "    <tr style=\"text-align: right;\">\n",
       "      <th></th>\n",
       "      <th>X1</th>\n",
       "      <th>X2</th>\n",
       "      <th>Y</th>\n",
       "    </tr>\n",
       "  </thead>\n",
       "  <tbody>\n",
       "    <tr>\n",
       "      <th>0</th>\n",
       "      <td>0.684851</td>\n",
       "      <td>4.453799</td>\n",
       "      <td>0</td>\n",
       "    </tr>\n",
       "    <tr>\n",
       "      <th>1</th>\n",
       "      <td>1.399892</td>\n",
       "      <td>3.687219</td>\n",
       "      <td>0</td>\n",
       "    </tr>\n",
       "    <tr>\n",
       "      <th>2</th>\n",
       "      <td>4.352912</td>\n",
       "      <td>4.095784</td>\n",
       "      <td>0</td>\n",
       "    </tr>\n",
       "    <tr>\n",
       "      <th>3</th>\n",
       "      <td>3.492212</td>\n",
       "      <td>0.647087</td>\n",
       "      <td>0</td>\n",
       "    </tr>\n",
       "    <tr>\n",
       "      <th>4</th>\n",
       "      <td>4.149937</td>\n",
       "      <td>3.738339</td>\n",
       "      <td>0</td>\n",
       "    </tr>\n",
       "    <tr>\n",
       "      <th>5</th>\n",
       "      <td>4.393983</td>\n",
       "      <td>3.334092</td>\n",
       "      <td>0</td>\n",
       "    </tr>\n",
       "    <tr>\n",
       "      <th>6</th>\n",
       "      <td>0.752418</td>\n",
       "      <td>3.519920</td>\n",
       "      <td>0</td>\n",
       "    </tr>\n",
       "    <tr>\n",
       "      <th>7</th>\n",
       "      <td>1.350881</td>\n",
       "      <td>1.894855</td>\n",
       "      <td>0</td>\n",
       "    </tr>\n",
       "    <tr>\n",
       "      <th>8</th>\n",
       "      <td>1.510865</td>\n",
       "      <td>3.813221</td>\n",
       "      <td>0</td>\n",
       "    </tr>\n",
       "    <tr>\n",
       "      <th>9</th>\n",
       "      <td>3.495190</td>\n",
       "      <td>2.311212</td>\n",
       "      <td>0</td>\n",
       "    </tr>\n",
       "    <tr>\n",
       "      <th>10</th>\n",
       "      <td>6.529448</td>\n",
       "      <td>1.055084</td>\n",
       "      <td>1</td>\n",
       "    </tr>\n",
       "    <tr>\n",
       "      <th>11</th>\n",
       "      <td>1.429844</td>\n",
       "      <td>9.605212</td>\n",
       "      <td>1</td>\n",
       "    </tr>\n",
       "    <tr>\n",
       "      <th>12</th>\n",
       "      <td>6.969866</td>\n",
       "      <td>7.923420</td>\n",
       "      <td>1</td>\n",
       "    </tr>\n",
       "    <tr>\n",
       "      <th>13</th>\n",
       "      <td>3.232082</td>\n",
       "      <td>0.116653</td>\n",
       "      <td>1</td>\n",
       "    </tr>\n",
       "    <tr>\n",
       "      <th>14</th>\n",
       "      <td>1.303378</td>\n",
       "      <td>7.449219</td>\n",
       "      <td>1</td>\n",
       "    </tr>\n",
       "    <tr>\n",
       "      <th>15</th>\n",
       "      <td>1.885360</td>\n",
       "      <td>6.128516</td>\n",
       "      <td>1</td>\n",
       "    </tr>\n",
       "    <tr>\n",
       "      <th>16</th>\n",
       "      <td>2.193381</td>\n",
       "      <td>6.498721</td>\n",
       "      <td>1</td>\n",
       "    </tr>\n",
       "    <tr>\n",
       "      <th>17</th>\n",
       "      <td>7.595590</td>\n",
       "      <td>6.850853</td>\n",
       "      <td>1</td>\n",
       "    </tr>\n",
       "    <tr>\n",
       "      <th>18</th>\n",
       "      <td>0.508917</td>\n",
       "      <td>5.061832</td>\n",
       "      <td>1</td>\n",
       "    </tr>\n",
       "    <tr>\n",
       "      <th>19</th>\n",
       "      <td>8.189576</td>\n",
       "      <td>5.329446</td>\n",
       "      <td>1</td>\n",
       "    </tr>\n",
       "  </tbody>\n",
       "</table>\n",
       "</div>"
      ],
      "text/plain": [
       "          X1        X2  Y\n",
       "0   0.684851  4.453799  0\n",
       "1   1.399892  3.687219  0\n",
       "2   4.352912  4.095784  0\n",
       "3   3.492212  0.647087  0\n",
       "4   4.149937  3.738339  0\n",
       "5   4.393983  3.334092  0\n",
       "6   0.752418  3.519920  0\n",
       "7   1.350881  1.894855  0\n",
       "8   1.510865  3.813221  0\n",
       "9   3.495190  2.311212  0\n",
       "10  6.529448  1.055084  1\n",
       "11  1.429844  9.605212  1\n",
       "12  6.969866  7.923420  1\n",
       "13  3.232082  0.116653  1\n",
       "14  1.303378  7.449219  1\n",
       "15  1.885360  6.128516  1\n",
       "16  2.193381  6.498721  1\n",
       "17  7.595590  6.850853  1\n",
       "18  0.508917  5.061832  1\n",
       "19  8.189576  5.329446  1"
      ]
     },
     "execution_count": 3,
     "metadata": {},
     "output_type": "execute_result"
    }
   ],
   "source": [
    "dataset"
   ]
  },
  {
   "cell_type": "markdown",
   "metadata": {},
   "source": [
    "# Ploting dataset values "
   ]
  },
  {
   "cell_type": "code",
   "execution_count": 4,
   "metadata": {},
   "outputs": [
    {
     "data": {
      "text/plain": [
       "<matplotlib.legend.Legend at 0x280d7b38c50>"
      ]
     },
     "execution_count": 4,
     "metadata": {},
     "output_type": "execute_result"
    },
    {
     "data": {
      "image/png": "[encoded data removed]",
      "text/plain": [
       "<Figure size 432x288 with 1 Axes>"
      ]
     },
     "metadata": {
      "needs_background": "light"
     },
     "output_type": "display_data"
    }
   ],
   "source": [
    "plt.plot(dataset,label='Inline label')\n",
    "plt.legend([\"X2\",\"X1\",\"Y\"])"
   ]
  },
  {
   "cell_type": "markdown",
   "metadata": {},
   "source": [
    "# Converting Target variable to vector of number of classes"
   ]
  },
  {
   "cell_type": "code",
   "execution_count": 5,
   "metadata": {},
   "outputs": [],
   "source": [
    "Z = np.zeros((20, 2))\n",
    "for i in range(20):\n",
    "    Z[i, Y[i]] = 1"
   ]
  },
  {
   "cell_type": "code",
   "execution_count": 6,
   "metadata": {},
   "outputs": [
    {
     "data": {
      "text/plain": [
       "(20, 2)"
      ]
     },
     "execution_count": 6,
     "metadata": {},
     "output_type": "execute_result"
    }
   ],
   "source": [
    "X.shape"
   ]
  },
  {
   "cell_type": "markdown",
   "metadata": {},
   "source": [
    "# Initiating Random Weights and Bias"
   ]
  },
  {
   "cell_type": "code",
   "execution_count": 7,
   "metadata": {},
   "outputs": [],
   "source": [
    "Wi_1 = np.random.randn(3, 2)\n",
    "Bi_1 = np.random.randn(3)\n",
    "Wi_2 = np.random.randn(3, 2)\n",
    "Bi_2 = np.random.randn(2)"
   ]
  },
  {
   "cell_type": "code",
   "execution_count": 8,
   "metadata": {},
   "outputs": [
    {
     "data": {
      "text/plain": [
       "array([[-0.53369683, -0.67770417],\n",
       "       [-1.34847806,  0.68462303],\n",
       "       [-0.16219281, -1.41107582]])"
      ]
     },
     "execution_count": 8,
     "metadata": {},
     "output_type": "execute_result"
    }
   ],
   "source": [
    "Wi_1"
   ]
  },
  {
   "cell_type": "code",
   "execution_count": 9,
   "metadata": {},
   "outputs": [
    {
     "data": {
      "text/plain": [
       "array([-0.2326682 , -1.58155312])"
      ]
     },
     "execution_count": 9,
     "metadata": {},
     "output_type": "execute_result"
    }
   ],
   "source": [
    "Bi_2"
   ]
  },
  {
   "cell_type": "code",
   "execution_count": 10,
   "metadata": {},
   "outputs": [
    {
     "data": {
      "text/plain": [
       "array([[ 0.60187403,  1.09840158],\n",
       "       [-1.04193008, -3.2587023 ],\n",
       "       [ 1.5650522 , -0.34679739]])"
      ]
     },
     "execution_count": 10,
     "metadata": {},
     "output_type": "execute_result"
    }
   ],
   "source": [
    "Wi_2"
   ]
  },
  {
   "cell_type": "code",
   "execution_count": 11,
   "metadata": {},
   "outputs": [
    {
     "data": {
      "text/plain": [
       "array([-0.2326682 , -1.58155312])"
      ]
     },
     "execution_count": 11,
     "metadata": {},
     "output_type": "execute_result"
    }
   ],
   "source": [
    "Bi_2"
   ]
  },
  {
   "cell_type": "code",
   "execution_count": 13,
   "metadata": {},
   "outputs": [
    {
     "data": {
      "text/plain": [
       "array([[-0.53369683, -1.34847806, -0.16219281],\n",
       "       [-0.67770417,  0.68462303, -1.41107582]])"
      ]
     },
     "execution_count": 13,
     "metadata": {},
     "output_type": "execute_result"
    }
   ],
   "source": [
    "Wi_1.T"
   ]
  },
  {
   "cell_type": "code",
   "execution_count": 15,
   "metadata": {},
   "outputs": [
    {
     "data": {
      "text/plain": [
       "array([[0.6848511 , 4.45379938],\n",
       "       [1.3998921 , 3.68721912],\n",
       "       [4.35291224, 4.09578397],\n",
       "       [3.49221205, 0.64708719],\n",
       "       [4.14993684, 3.73833874],\n",
       "       [4.39398308, 3.33409242],\n",
       "       [0.75241832, 3.51991988],\n",
       "       [1.35088089, 1.89485513],\n",
       "       [1.51086501, 3.81322073],\n",
       "       [3.49518972, 2.3112123 ],\n",
       "       [6.52944803, 1.05508443],\n",
       "       [1.4298443 , 9.60521182],\n",
       "       [6.969866  , 7.92341996],\n",
       "       [3.23208222, 0.11665284],\n",
       "       [1.30337809, 7.44921912],\n",
       "       [1.88536036, 6.12851607],\n",
       "       [2.19338064, 6.49872097],\n",
       "       [7.59559014, 6.8508527 ],\n",
       "       [0.50891715, 5.06183152],\n",
       "       [8.18957611, 5.32944597]])"
      ]
     },
     "execution_count": 15,
     "metadata": {},
     "output_type": "execute_result"
    }
   ],
   "source": [
    "X"
   ]
  },
  {
   "cell_type": "code",
   "execution_count": 16,
   "metadata": {
    "scrolled": true
   },
   "outputs": [
    {
     "data": {
      "text/plain": [
       "(20, 2)"
      ]
     },
     "execution_count": 16,
     "metadata": {},
     "output_type": "execute_result"
    }
   ],
   "source": [
    "X.shape"
   ]
  },
  {
   "cell_type": "code",
   "execution_count": 12,
   "metadata": {},
   "outputs": [
    {
     "data": {
      "text/plain": [
       "array([[ -3.38386129,   2.12566696,  -6.39572652],\n",
       "       [ -3.24596176,   0.63663136,  -5.42999815],\n",
       "       [ -5.09886537,  -3.0657386 ,  -6.48547277],\n",
       "       [ -2.30231621,  -4.26616053,  -1.47950078],\n",
       "       [ -4.74829592,  -3.03674596,  -5.94816931],\n",
       "       [ -4.6045832 ,  -3.6425933 ,  -5.41732964],\n",
       "       [ -2.78702766,   1.39519863,  -5.08891065],\n",
       "       [ -2.00511209,  -0.52437177,  -2.89288742],\n",
       "       [ -3.39057946,   0.57325043,  -5.62579499],\n",
       "       [ -3.43168991,  -3.13087746,  -3.82819043],\n",
       "       [ -4.19978086,  -8.08248228,  -2.54783365],\n",
       "       [ -7.2725955 ,   4.64783558, -13.78559257],\n",
       "       [ -9.08953019,  -3.97415556, -12.31100844],\n",
       "       [ -1.80400816,  -4.27852874,  -0.6888265 ],\n",
       "       [ -5.74397564,   3.34233023, -10.7228115 ],\n",
       "       [ -5.15953177,   1.65335618,  -8.95359271],\n",
       "       [ -5.57481062,   1.49144841,  -9.52593857],\n",
       "       [ -8.69659387,  -5.55223507, -10.89902268],\n",
       "       [ -3.70203181,   2.77918283,  -7.22517074],\n",
       "       [ -7.98253861,  -7.39480222,  -8.84854269]])"
      ]
     },
     "execution_count": 12,
     "metadata": {},
     "output_type": "execute_result"
    }
   ],
   "source": [
    "X.dot(Wi_1.T)"
   ]
  },
  {
   "cell_type": "markdown",
   "metadata": {},
   "source": [
    "# Defining the Forward Propagation function "
   ]
  },
  {
   "cell_type": "code",
   "execution_count": 12,
   "metadata": {},
   "outputs": [],
   "source": [
    "def forward_prop(X, Wi_1, Bi_1, Wi_2, Bi_2):\n",
    "    #first layer \n",
    "    M = 1 / (1 + np.exp(-(X.dot(Wi_1.T) + Bi_1)))\n",
    "    # second layer\n",
    "    A = M.dot(Wi_2) + Bi_2\n",
    "    expA = np.exp(A)\n",
    "    Y = expA / expA.sum(axis=1, keepdims=True)\n",
    "    return Y, M"
   ]
  },
  {
   "cell_type": "code",
   "execution_count": 13,
   "metadata": {},
   "outputs": [
    {
     "data": {
      "text/plain": [
       "(array([[0.94489236, 0.05510764],\n",
       "        [0.94432732, 0.05567268],\n",
       "        [0.96232609, 0.03767391],\n",
       "        [0.96384188, 0.03615812],\n",
       "        [0.95756404, 0.04243596],\n",
       "        [0.96268996, 0.03731004],\n",
       "        [0.94950122, 0.05049878],\n",
       "        [0.87045641, 0.12954359],\n",
       "        [0.9408779 , 0.0591221 ],\n",
       "        [0.95819329, 0.04180671],\n",
       "        [0.96607747, 0.03392253],\n",
       "        [0.96672907, 0.03327093],\n",
       "        [0.94950591, 0.05049409],\n",
       "        [0.93603222, 0.06396778],\n",
       "        [0.93274125, 0.06725875],\n",
       "        [0.96782228, 0.03217772],\n",
       "        [0.95935845, 0.04064155],\n",
       "        [0.95302809, 0.04697191],\n",
       "        [0.95389352, 0.04610648],\n",
       "        [0.92453058, 0.07546942]]),\n",
       " array([[5.24659550e-03, 1.92977238e-01, 8.31316738e-01],\n",
       "        [2.57804935e-03, 2.35119163e-01, 8.60499134e-01],\n",
       "        [4.84339533e-03, 1.65535768e-02, 9.15150209e-01],\n",
       "        [4.87596382e-03, 6.90331039e-03, 9.32474536e-01],\n",
       "        [1.51824369e-02, 2.51675797e-02, 8.55665573e-01],\n",
       "        [3.64411084e-03, 1.82733037e-02, 9.21876760e-01],\n",
       "        [3.90714078e-04, 2.44608421e-01, 9.30032377e-01],\n",
       "        [2.89902880e-01, 1.63437938e-01, 4.62731737e-01],\n",
       "        [1.34511046e-03, 3.01259498e-01, 8.80146196e-01],\n",
       "        [3.39561879e-03, 6.63386688e-02, 8.92729670e-01],\n",
       "        [5.47489392e-03, 3.91298780e-04, 9.67393237e-01],\n",
       "        [2.06837456e-04, 6.66998107e-03, 9.81035470e-01],\n",
       "        [2.57851865e-01, 2.97139289e-05, 9.16963937e-01],\n",
       "        [4.18929630e-01, 2.68736341e-05, 8.93577078e-01],\n",
       "        [7.34272306e-03, 2.85974882e-01, 7.87367394e-01],\n",
       "        [1.12998952e-04, 5.95167877e-05, 9.96057478e-01],\n",
       "        [3.20175637e-06, 1.58926811e-01, 9.91247086e-01],\n",
       "        [1.40429828e-04, 2.20747459e-01, 9.54736668e-01],\n",
       "        [1.81729912e-01, 6.54957251e-05, 9.14024107e-01],\n",
       "        [5.25209590e-01, 3.13210721e-05, 8.70705259e-01]]))"
      ]
     },
     "execution_count": 13,
     "metadata": {},
     "output_type": "execute_result"
    }
   ],
   "source": [
    "forward_prop(X, Wi_1, Bi_1, Wi_2, Bi_2)"
   ]
  },
  {
   "cell_type": "markdown",
   "metadata": {},
   "source": [
    "# Backpropagation by Differentiating or Gradient Descent"
   ]
  },
  {
   "cell_type": "code",
   "execution_count": 14,
   "metadata": {},
   "outputs": [],
   "source": [
    "#Returns gradient for Weight_2\n",
    "def diff_Wi_2(H, Z, Y):\n",
    "    return H.T.dot(Z - Y)"
   ]
  },
  {
   "cell_type": "code",
   "execution_count": 15,
   "metadata": {},
   "outputs": [],
   "source": [
    "#Returns gradient for Weight_2\n",
    "def diff_Wi_1(X, H, Z, output, Wi_2):\n",
    "    dZ = (Z - output).dot(Wi_2.T) * H * (1 - H)\n",
    "    return X.T.dot(dZ)\n"
   ]
  },
  {
   "cell_type": "code",
   "execution_count": 16,
   "metadata": {},
   "outputs": [],
   "source": [
    "# Returns derivative for both bias\n",
    "def diff_B2(Z, Y):\n",
    "    return (Z - Y).sum(axis=0)\n",
    "\n",
    "def diff_B1(Z, Y, Wi_2, H):\n",
    "    return ((Z - Y).dot(Wi_2.T) * H * (1 - H)).sum(axis=0)"
   ]
  },
  {
   "cell_type": "code",
   "execution_count": 17,
   "metadata": {},
   "outputs": [],
   "source": [
    "learning_rate = 1e-3\n",
    "for epoch in range(5000):\n",
    "    output, hidden = forward_prop(X, Wi_1, Bi_1, Wi_2, Bi_2)\n",
    "    Wi_2 += learning_rate * diff_Wi_2(hidden, Z, output)\n",
    "    Bi_2 += learning_rate * diff_B2(Z, output)\n",
    "    Wi_1 += learning_rate * diff_Wi_1(X, hidden, Z, output, Wi_2).T\n",
    "    Bi_1 += learning_rate * diff_B1(Z, output, Wi_2, hidden)"
   ]
  },
  {
   "cell_type": "markdown",
   "metadata": {},
   "source": [
    "# Generating Prediction at New Datapoint"
   ]
  },
  {
   "cell_type": "code",
   "execution_count": 18,
   "metadata": {},
   "outputs": [
    {
     "name": "stdout",
     "output_type": "stream",
     "text": [
      " prob of class 0>>>>>>  0.6665517663166663 \n",
      " prob of class 1 >>>>> 0.3334482336833337\n"
     ]
    }
   ],
   "source": [
    "X_test =np.array([5,5])\n",
    "\n",
    "hidden_output = 1 / (1 + np.exp(-X_test.dot(Wi_1.T) - Bi_1))\n",
    "Outer_layer_output = hidden_output.dot(Wi_2) + Bi_2\n",
    "expA = np.exp(Outer_layer_output)\n",
    "Y = expA / expA.sum()\n",
    "print(\" prob of class 0>>>>>>  {} \\n prob of class 1 >>>>> {}\".format(Y[0],Y[1]))"
   ]
  }
 ],
 "metadata": {
  "kernelspec": {
   "display_name": "Python 3",
   "language": "python",
   "name": "python3"
  },
  "language_info": {
   "codemirror_mode": {
    "name": "ipython",
    "version": 3
   },
   "file_extension": ".py",
   "mimetype": "text/x-python",
   "name": "python",
   "nbconvert_exporter": "python",
   "pygments_lexer": "ipython3",
   "version": "3.7.4"
  }
 },
 "nbformat": 4,
 "nbformat_minor": 2
}
